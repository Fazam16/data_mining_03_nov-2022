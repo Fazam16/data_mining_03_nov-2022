{
 "cells": [
  {
   "cell_type": "code",
   "execution_count": 507,
   "metadata": {},
   "outputs": [],
   "source": [
    "import pandas"
   ]
  },
  {
   "cell_type": "code",
   "execution_count": 508,
   "metadata": {},
   "outputs": [
    {
     "name": "stdout",
     "output_type": "stream",
     "text": [
      "   Gender              Race  Birth_Year Marital_Status  Years_on_Internet  \\\n",
      "0       M             White        1972              M                  8   \n",
      "1       M          Hispanic        1981              S                 14   \n",
      "2       F  African American        1977              S                  6   \n",
      "3       F             White        1961              D                  8   \n",
      "4       M             White        1954              M                  2   \n",
      "5       M  African American        1982              D                 15   \n",
      "6       M  African American        1981              D                 11   \n",
      "7       M             White        1977              S                  3   \n",
      "8       F  African American        1969              M                  6   \n",
      "9       M             White        1987              S                 12   \n",
      "10      F          Hispanic        1959              D                 12   \n",
      "\n",
      "    Hours_Per_Day  Preferred_Browser Preferred_Search_Engine Preferred_Email  \\\n",
      "0               1            Firefox                  Google           Yahoo   \n",
      "1               2             Chrome                  Google         Hotmail   \n",
      "2               2            Firefox                   Yahoo           Yahoo   \n",
      "3               6            Firefox                  Google         Hotmail   \n",
      "4               3  Internet Explorer                    Bing         Hotmail   \n",
      "5               4  Internet Explorer                  Google           Yahoo   \n",
      "6               2            Firefox                  Google           Yahoo   \n",
      "7               3  Internet Explorer                   Yahoo           Yahoo   \n",
      "8               2            Firefox                  Google           Gmail   \n",
      "9               1             Safari                   Yahoo           Yahoo   \n",
      "10              5             Chrome                  Google           Gmail   \n",
      "\n",
      "   Read_News Online_Shopping Online_Gaming Facebook Twitter  \\\n",
      "0          Y               N             N        Y       N   \n",
      "1          Y               N             N        Y       N   \n",
      "2          Y               Y           NaN        Y       N   \n",
      "3          N               Y             N        N       Y   \n",
      "4          Y               Y             N        Y       N   \n",
      "5          Y               N             Y        N       N   \n",
      "6         10               Y           765        Y       Y   \n",
      "7          Y             NaN           NaN        Y      99   \n",
      "8          N               Y             N        N       N   \n",
      "9          Y               9             Y        Y       N   \n",
      "10         Y               N             N        Y       N   \n",
      "\n",
      "   Other_Social_Network  \n",
      "0                   NaN  \n",
      "1                  Face  \n",
      "2                    FB  \n",
      "3                Fesbuk  \n",
      "4                   NaN  \n",
      "5                   NaN  \n",
      "6              LinkedIn  \n",
      "7              LinkedIn  \n",
      "8                   NaN  \n",
      "9               MySpace  \n",
      "10              Google+  \n"
     ]
    }
   ],
   "source": [
    "dataSet = pandas.read_csv('MissingDataSet-Noisy-Multiple.csv')\n",
    "print(dataSet)"
   ]
  },
  {
   "cell_type": "code",
   "execution_count": 509,
   "metadata": {},
   "outputs": [
    {
     "data": {
      "text/plain": [
       "Gender                     0\n",
       "Race                       0\n",
       "Birth_Year                 0\n",
       "Marital_Status             0\n",
       "Years_on_Internet          0\n",
       "Hours_Per_Day              0\n",
       "Preferred_Browser          0\n",
       "Preferred_Search_Engine    0\n",
       "Preferred_Email            0\n",
       "Read_News                  0\n",
       "Online_Shopping            1\n",
       "Online_Gaming              2\n",
       "Facebook                   0\n",
       "Twitter                    0\n",
       "Other_Social_Network       4\n",
       "dtype: int64"
      ]
     },
     "execution_count": 509,
     "metadata": {},
     "output_type": "execute_result"
    }
   ],
   "source": [
    "dataSet.isnull().sum()\n"
   ]
  },
  {
   "cell_type": "code",
   "execution_count": 510,
   "metadata": {},
   "outputs": [
    {
     "data": {
      "text/plain": [
       "Gender                     object\n",
       "Race                       object\n",
       "Birth_Year                  int64\n",
       "Marital_Status             object\n",
       "Years_on_Internet           int64\n",
       "Hours_Per_Day               int64\n",
       "Preferred_Browser          object\n",
       "Preferred_Search_Engine    object\n",
       "Preferred_Email            object\n",
       "Read_News                  object\n",
       "Online_Shopping            object\n",
       "Online_Gaming              object\n",
       "Facebook                   object\n",
       "Twitter                    object\n",
       "Other_Social_Network       object\n",
       "dtype: object"
      ]
     },
     "execution_count": 510,
     "metadata": {},
     "output_type": "execute_result"
    }
   ],
   "source": [
    "dataSet.dtypes"
   ]
  },
  {
   "cell_type": "code",
   "execution_count": 511,
   "metadata": {},
   "outputs": [
    {
     "name": "stdout",
     "output_type": "stream",
     "text": [
      "0    Y\n",
      "Name: Online_Shopping, dtype: object\n"
     ]
    },
    {
     "data": {
      "image/png": "[encoded data removed]",
      "text/plain": [
       "<Figure size 432x288 with 1 Axes>"
      ]
     },
     "metadata": {
      "needs_background": "light"
     },
     "output_type": "display_data"
    }
   ],
   "source": [
    "dataSet['Online_Shopping'].hist()\n",
    "modus_Online_Shopping = dataSet['Online_Shopping'].mode()\n",
    "print(modus_Online_Shopping)"
   ]
  },
  {
   "cell_type": "code",
   "execution_count": 512,
   "metadata": {},
   "outputs": [
    {
     "name": "stdout",
     "output_type": "stream",
     "text": [
      "0    N\n",
      "Name: Online_Gaming, dtype: object\n"
     ]
    },
    {
     "data": {
      "image/png": "[encoded data removed]",
      "text/plain": [
       "<Figure size 432x288 with 1 Axes>"
      ]
     },
     "metadata": {
      "needs_background": "light"
     },
     "output_type": "display_data"
    }
   ],
   "source": [
    "dataSet['Online_Gaming'].hist()\n",
    "modus_Online_Gaming = dataSet['Online_Gaming'].mode()\n",
    "print(modus_Online_Gaming)"
   ]
  },
  {
   "cell_type": "code",
   "execution_count": 513,
   "metadata": {},
   "outputs": [
    {
     "name": "stdout",
     "output_type": "stream",
     "text": [
      "0    LinkedIn\n",
      "Name: Other_Social_Network, dtype: object\n"
     ]
    },
    {
     "data": {
      "image/png": "[encoded data removed]",
      "text/plain": [
       "<Figure size 432x288 with 1 Axes>"
      ]
     },
     "metadata": {
      "needs_background": "light"
     },
     "output_type": "display_data"
    }
   ],
   "source": [
    "dataSet['Other_Social_Network'].hist()\n",
    "modus_Other_Social = dataSet['Other_Social_Network'].mode()\n",
    "print(modus_Other_Social)"
   ]
  },
  {
   "cell_type": "code",
   "execution_count": 514,
   "metadata": {},
   "outputs": [],
   "source": [
    "dataSet['Online_Shopping'] = dataSet['Online_Shopping'].fillna('Y')\n",
    "dataSet['Online_Gaming'] = dataSet['Online_Gaming'].fillna('N')\n",
    "dataSet['Other_Social_Network'] = dataSet['Other_Social_Network'].fillna('LinkedIn')"
   ]
  },
  {
   "cell_type": "code",
   "execution_count": 515,
   "metadata": {},
   "outputs": [
    {
     "data": {
      "text/plain": [
       "0"
      ]
     },
     "execution_count": 515,
     "metadata": {},
     "output_type": "execute_result"
    }
   ],
   "source": [
    "dataSet['Online_Shopping'].isna().sum()\n",
    "dataSet['Online_Gaming'].isna().sum()\n",
    "dataSet['Other_Social_Network'].isna().sum()"
   ]
  },
  {
   "cell_type": "code",
   "execution_count": 516,
   "metadata": {},
   "outputs": [],
   "source": [
    "dataSet['Read_News'] = dataSet['Read_News'].str.replace(\"10\", \"N\")\n",
    "dataSet['Online_Shopping'] = dataSet['Online_Shopping'].str.replace(\"9\", \"N\")\n",
    "dataSet['Online_Gaming'] = dataSet['Online_Gaming'].str.replace(\"765\", \"N\")\n",
    "dataSet['Twitter'] = dataSet['Twitter'].str.replace(\"99\", \"N\")"
   ]
  },
  {
   "cell_type": "code",
   "execution_count": 517,
   "metadata": {},
   "outputs": [
    {
     "name": "stdout",
     "output_type": "stream",
     "text": [
      "['LinkedIn', 'Facebook', 'Facebook', 'Facebook', 'LinkedIn', 'LinkedIn', 'LinkedIn', 'LinkedIn', 'LinkedIn', 'MySpace', 'Google+']\n"
     ]
    },
    {
     "name": "stderr",
     "output_type": "stream",
     "text": [
      "C:\\Users\\ASUS\\AppData\\Local\\Temp\\ipykernel_26768\\203025162.py:11: SettingWithCopyWarning: \n",
      "A value is trying to be set on a copy of a slice from a DataFrame\n",
      "\n",
      "See the caveats in the documentation: https://pandas.pydata.org/pandas-docs/stable/user_guide/indexing.html#returning-a-view-versus-a-copy\n",
      "  dataSet['Other_Social_Network'][i] = listFacebook[i]\n"
     ]
    }
   ],
   "source": [
    "def ubahFacebook(kalimat):\n",
    "    if kalimat == \"Face\" or kalimat == \"FB\" or kalimat == \"Fesbuk\":\n",
    "        return \"Facebook\"\n",
    "    else:\n",
    "        return kalimat\n",
    "\n",
    "facebook = map(ubahFacebook, dataSet['Other_Social_Network'])\n",
    "listFacebook = list(facebook)\n",
    "print(listFacebook)\n",
    "for i in range(len(dataSet['Other_Social_Network'])):\n",
    "    dataSet['Other_Social_Network'][i] = listFacebook[i]"
   ]
  },
  {
   "cell_type": "code",
   "execution_count": 518,
   "metadata": {},
   "outputs": [],
   "source": [
    "dataSet.to_excel(\"Daming.xlsx\", index=False)"
   ]
  }
 ],
 "metadata": {
  "kernelspec": {
   "display_name": "Python 3.9.1 64-bit",
   "language": "python",
   "name": "python3"
  },
  "language_info": {
   "codemirror_mode": {
    "name": "ipython",
    "version": 3
   },
   "file_extension": ".py",
   "mimetype": "text/x-python",
   "name": "python",
   "nbconvert_exporter": "python",
   "pygments_lexer": "ipython3",
   "version": "3.9.1"
  },
  "orig_nbformat": 4,
  "vscode": {
   "interpreter": {
    "hash": "14958d3aee5f1cad06795f787e54b96185c25fb40dfec723a5be941f3a531b8c"
   }
  }
 },
 "nbformat": 4,
 "nbformat_minor": 2
}
