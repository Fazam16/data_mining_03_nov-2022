{
 "cells": [
  {
   "cell_type": "code",
   "execution_count": 519,
   "metadata": {},
   "outputs": [],
   "source": [
    "import pandas"
   ]
  },
  {
   "cell_type": "code",
   "execution_count": null,
   "metadata": {},
   "outputs": [],
   "source": [
    "dataSet = pandas.read_csv('MissingDataSet-Noisy-Multiple.csv')\n",
    "print(dataSet)"
   ]
  },
  {
   "cell_type": "code",
   "execution_count": null,
   "metadata": {},
   "outputs": [],
   "source": [
    "dataSet.isnull().sum()\n"
   ]
  },
  {
   "cell_type": "code",
   "execution_count": null,
   "metadata": {},
   "outputs": [],
   "source": [
    "dataSet.dtypes"
   ]
  },
  {
   "cell_type": "code",
   "execution_count": null,
   "metadata": {},
   "outputs": [],
   "source": [
    "dataSet['Online_Shopping'].hist()\n",
    "modus_Online_Shopping = dataSet['Online_Shopping'].mode()\n",
    "print(modus_Online_Shopping)"
   ]
  },
  {
   "cell_type": "code",
   "execution_count": null,
   "metadata": {},
   "outputs": [],
   "source": [
    "dataSet['Online_Gaming'].hist()\n",
    "modus_Online_Gaming = dataSet['Online_Gaming'].mode()\n",
    "print(modus_Online_Gaming)"
   ]
  },
  {
   "cell_type": "code",
   "execution_count": null,
   "metadata": {},
   "outputs": [],
   "source": [
    "dataSet['Other_Social_Network'].hist()\n",
    "modus_Other_Social = dataSet['Other_Social_Network'].mode()\n",
    "print(modus_Other_Social)"
   ]
  },
  {
   "cell_type": "code",
   "execution_count": 526,
   "metadata": {},
   "outputs": [],
   "source": [
    "dataSet['Online_Shopping'] = dataSet['Online_Shopping'].fillna('Y')\n",
    "dataSet['Online_Gaming'] = dataSet['Online_Gaming'].fillna('N')\n",
    "dataSet['Other_Social_Network'] = dataSet['Other_Social_Network'].fillna('LinkedIn')"
   ]
  },
  {
   "cell_type": "code",
   "execution_count": null,
   "metadata": {},
   "outputs": [],
   "source": [
    "dataSet['Online_Shopping'].isna().sum()\n",
    "dataSet['Online_Gaming'].isna().sum()\n",
    "dataSet['Other_Social_Network'].isna().sum()"
   ]
  },
  {
   "cell_type": "code",
   "execution_count": 528,
   "metadata": {},
   "outputs": [],
   "source": [
    "dataSet['Read_News'] = dataSet['Read_News'].str.replace(\"10\", \"N\")\n",
    "dataSet['Online_Shopping'] = dataSet['Online_Shopping'].str.replace(\"9\", \"N\")\n",
    "dataSet['Online_Gaming'] = dataSet['Online_Gaming'].str.replace(\"765\", \"N\")\n",
    "dataSet['Twitter'] = dataSet['Twitter'].str.replace(\"99\", \"N\")"
   ]
  },
  {
   "cell_type": "code",
   "execution_count": null,
   "metadata": {},
   "outputs": [],
   "source": [
    "def ubahFacebook(kalimat):\n",
    "    if kalimat == \"Face\" or kalimat == \"FB\" or kalimat == \"Fesbuk\":\n",
    "        return \"Facebook\"\n",
    "    else:\n",
    "        return kalimat\n",
    "\n",
    "facebook = map(ubahFacebook, dataSet['Other_Social_Network'])\n",
    "listFacebook = list(facebook)\n",
    "print(listFacebook)\n",
    "for i in range(len(dataSet['Other_Social_Network'])):\n",
    "    dataSet['Other_Social_Network'][i] = listFacebook[i]"
   ]
  },
  {
   "cell_type": "code",
   "execution_count": 530,
   "metadata": {},
   "outputs": [],
   "source": [
    "dataSet.to_excel(\"Daming.xlsx\", index=False)"
   ]
  }
 ],
 "metadata": {
  "kernelspec": {
   "display_name": "Python 3.9.1 64-bit",
   "language": "python",
   "name": "python3"
  },
  "language_info": {
   "codemirror_mode": {
    "name": "ipython",
    "version": 3
   },
   "file_extension": ".py",
   "mimetype": "text/x-python",
   "name": "python",
   "nbconvert_exporter": "python",
   "pygments_lexer": "ipython3",
   "version": "3.9.1"
  },
  "orig_nbformat": 4,
  "vscode": {
   "interpreter": {
    "hash": "14958d3aee5f1cad06795f787e54b96185c25fb40dfec723a5be941f3a531b8c"
   }
  }
 },
 "nbformat": 4,
 "nbformat_minor": 2
}
